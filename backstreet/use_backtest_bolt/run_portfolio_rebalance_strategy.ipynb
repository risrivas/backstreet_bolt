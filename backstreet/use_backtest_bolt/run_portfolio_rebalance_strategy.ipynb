{
 "cells": [
  {
   "cell_type": "code",
   "execution_count": 1,
   "id": "revolutionary-purchase",
   "metadata": {},
   "outputs": [],
   "source": [
    "import warnings\n",
    "warnings.filterwarnings('ignore')"
   ]
  },
  {
   "cell_type": "code",
   "execution_count": 2,
   "id": "upset-strength",
   "metadata": {},
   "outputs": [],
   "source": [
    "import copy\n",
    "import pandas as pd\n",
    "import numpy as np\n",
    "import matplotlib.pyplot as plt\n",
    "plt.style.use(\"seaborn\")\n",
    "\n",
    "pd.options.mode.chained_assignment = None\n",
    "\n",
    "import yfinance as yf\n",
    "\n",
    "from datetime import datetime, timedelta\n",
    "\n",
    "import os, os.path\n",
    "os.chdir(\"/home/backstreet/use_backtest_bolt\")"
   ]
  },
  {
   "cell_type": "code",
   "execution_count": 3,
   "id": "experienced-paraguay",
   "metadata": {},
   "outputs": [],
   "source": [
    "def CAGR(DF):\n",
    "    \"function to calculate the Cumulative Annual Growth Rate of a trading strategy\"\n",
    "    df = DF.copy()\n",
    "    df[\"cum_return\"] = (1 + df[\"daily_ret\"]).cumprod()\n",
    "    n = len(df)/252\n",
    "    CAGR = (df[\"cum_return\"].tolist()[-1])**(1/n) - 1\n",
    "    return CAGR\n",
    "\n",
    "def volatility(DF):\n",
    "    \"function to calculate annualized volatility of a trading strategy\"\n",
    "    df = DF.copy()\n",
    "    vol = df[\"daily_ret\"].std() * np.sqrt(252)\n",
    "    return vol\n",
    "\n",
    "def sharpe(DF,rf):\n",
    "    \"function to calculate sharpe ratio ; rf is the risk free rate\"\n",
    "    df = DF.copy()\n",
    "    sr = (CAGR(df) - rf)/volatility(df)\n",
    "    return sr\n",
    "\n",
    "def max_dd(DF):\n",
    "    \"function to calculate max drawdown\"\n",
    "    df = DF.copy()\n",
    "    df[\"cum_return\"] = (1 + df[\"daily_ret\"]).cumprod()\n",
    "    df[\"cum_roll_max\"] = df[\"cum_return\"].cummax()\n",
    "    df[\"drawdown\"] = df[\"cum_roll_max\"] - df[\"cum_return\"]\n",
    "    df[\"drawdown_pct\"] = df[\"drawdown\"]/df[\"cum_roll_max\"]\n",
    "    max_dd = df[\"drawdown_pct\"].max()\n",
    "    return max_dd\n"
   ]
  },
  {
   "cell_type": "code",
   "execution_count": 4,
   "id": "informed-lafayette",
   "metadata": {},
   "outputs": [],
   "source": [
    "def get_data(ticker):\n",
    "    if not os.path.isfile(f'data/feathers/daily/{ticker}.feather'):\n",
    "        ftr_data = yf.download(ticker, start=(datetime.now() - timedelta(days=10 * 365)), end=datetime.today())[\"Adj Close\"].to_frame().dropna().reset_index()\n",
    "        ftr_data.to_feather(f'data/feathers/daily/{ticker}.feather')\n",
    "    raw = pd.read_feather(f'data/feathers/daily/{ticker}.feather')\n",
    "    raw[\"Date\"] = pd.to_datetime(raw[\"Date\"])\n",
    "    raw.set_index(\"Date\", inplace=True)\n",
    "    raw.dropna(inplace=True,how=\"all\")\n",
    "    return raw"
   ]
  },
  {
   "cell_type": "code",
   "execution_count": 5,
   "id": "loved-doctrine",
   "metadata": {},
   "outputs": [],
   "source": [
    "# Download historical data (daily) for DJI constituent stocks\n",
    "\n",
    "tickers = [\"MMM\",\"AXP\",\"T\",\"BA\",\"CAT\",\"CSCO\",\"KO\", \"XOM\",\"GE\",\"GS\",\"HD\",\n",
    "           \"IBM\",\"INTC\",\"JNJ\",\"JPM\",\"MCD\",\"MRK\",\"MSFT\",\"NKE\",\"PFE\",\"PG\",\"TRV\",\n",
    "           \"UNH\",\"VZ\",\"V\",\"WMT\",\"DIS\"]\n",
    "\n",
    "ohlc_mon = {} # directory with ohlc value for each stock\n",
    "\n",
    "# looping over tickers and creating a dataframe with close prices\n",
    "for ticker in tickers:\n",
    "    ohlc_mon[ticker] = get_data(ticker)\n",
    "\n",
    "tickers = ohlc_mon.keys() # redefine tickers variable after removing any tickers with corrupted data\n"
   ]
  },
  {
   "cell_type": "code",
   "execution_count": 6,
   "id": "rapid-bumper",
   "metadata": {},
   "outputs": [],
   "source": [
    "################################ Backtesting ####################################\n",
    "\n",
    "# calculating daily return for each stock and consolidating return info by stock in a separate dataframe\n",
    "ohlc_dict = copy.deepcopy(ohlc_mon)\n",
    "return_df = pd.DataFrame()\n",
    "for ticker in tickers:\n",
    "    # print(\"calculating daily return for \",ticker)\n",
    "    ohlc_dict[ticker][\"daily_ret\"] = ohlc_dict[ticker][\"Adj Close\"].pct_change()\n",
    "    return_df[ticker] = ohlc_dict[ticker][\"daily_ret\"]\n"
   ]
  },
  {
   "cell_type": "code",
   "execution_count": 7,
   "id": "postal-might",
   "metadata": {},
   "outputs": [],
   "source": [
    "# function to calculate portfolio return iteratively\n",
    "def pflio(DF,m,x):\n",
    "    \"\"\"Returns cumulative portfolio return\n",
    "    DF = dataframe with daily return info for all stocks\n",
    "    m = number of stock in the portfolio\n",
    "    x = number of underperforming stocks to be removed from portfolio daily\"\"\"\n",
    "    df = DF.copy()\n",
    "    portfolio = []\n",
    "    daily_ret = [0]\n",
    "    for i in range(len(df)):\n",
    "        if len(portfolio) > 0:\n",
    "            daily_ret.append(df[portfolio].iloc[i,:].mean())\n",
    "            bad_stocks = df[portfolio].iloc[i,:].sort_values(ascending=True)[:x].index.values.tolist()\n",
    "            portfolio = [t for t in portfolio if t not in bad_stocks]\n",
    "        fill = m - len(portfolio)\n",
    "        new_picks = df.iloc[i,:].sort_values(ascending=False)[:fill].index.values.tolist()\n",
    "        portfolio = portfolio + new_picks\n",
    "        # print(portfolio)\n",
    "    daily_ret_df = pd.DataFrame(np.array(daily_ret),columns=[\"daily_ret\"])\n",
    "    return daily_ret_df\n"
   ]
  },
  {
   "cell_type": "code",
   "execution_count": 8,
   "id": "thick-blues",
   "metadata": {},
   "outputs": [
    {
     "data": {
      "text/plain": [
       "0.05292250802437182"
      ]
     },
     "execution_count": 8,
     "metadata": {},
     "output_type": "execute_result"
    }
   ],
   "source": [
    "# calculating overall strategy's KPIs\n",
    "CAGR(pflio(return_df,6,3))\n"
   ]
  },
  {
   "cell_type": "code",
   "execution_count": 9,
   "id": "olive-hotel",
   "metadata": {},
   "outputs": [
    {
     "data": {
      "text/plain": [
       "0.13901776829005671"
      ]
     },
     "execution_count": 9,
     "metadata": {},
     "output_type": "execute_result"
    }
   ],
   "source": [
    "sharpe(pflio(return_df,6,3),0.025)\n"
   ]
  },
  {
   "cell_type": "code",
   "execution_count": 10,
   "id": "differential-natural",
   "metadata": {},
   "outputs": [
    {
     "data": {
      "text/plain": [
       "0.455175996700317"
      ]
     },
     "execution_count": 10,
     "metadata": {},
     "output_type": "execute_result"
    }
   ],
   "source": [
    "max_dd(pflio(return_df,6,3))"
   ]
  },
  {
   "cell_type": "code",
   "execution_count": 11,
   "id": "about-volume",
   "metadata": {},
   "outputs": [],
   "source": [
    "# calculating KPIs for Index buy and hold strategy over the same period\n",
    "DJI = get_data(\"^DJI\")"
   ]
  },
  {
   "cell_type": "code",
   "execution_count": 12,
   "id": "potential-angle",
   "metadata": {},
   "outputs": [],
   "source": [
    "DJI[\"daily_ret\"] = DJI[\"Adj Close\"].pct_change().fillna(0)"
   ]
  },
  {
   "cell_type": "code",
   "execution_count": 13,
   "id": "neither-constant",
   "metadata": {},
   "outputs": [
    {
     "data": {
      "text/plain": [
       "0.10733504295154939"
      ]
     },
     "execution_count": 13,
     "metadata": {},
     "output_type": "execute_result"
    }
   ],
   "source": [
    "CAGR(DJI)"
   ]
  },
  {
   "cell_type": "code",
   "execution_count": 14,
   "id": "native-sixth",
   "metadata": {},
   "outputs": [
    {
     "data": {
      "text/plain": [
       "0.4688279757845527"
      ]
     },
     "execution_count": 14,
     "metadata": {},
     "output_type": "execute_result"
    }
   ],
   "source": [
    "sharpe(DJI,0.025)"
   ]
  },
  {
   "cell_type": "code",
   "execution_count": 15,
   "id": "hybrid-headset",
   "metadata": {},
   "outputs": [
    {
     "data": {
      "text/plain": [
       "0.3708617136959432"
      ]
     },
     "execution_count": 15,
     "metadata": {},
     "output_type": "execute_result"
    }
   ],
   "source": [
    "max_dd(DJI)"
   ]
  },
  {
   "cell_type": "code",
   "execution_count": 16,
   "id": "adult-nickname",
   "metadata": {},
   "outputs": [
    {
     "data": {
      "text/plain": [
       "<matplotlib.legend.Legend at 0x7f6f7af8ff70>"
      ]
     },
     "execution_count": 16,
     "metadata": {},
     "output_type": "execute_result"
    },
    {
     "data": {
      "image/png": "[encoded data removed]",
      "text/plain": [
       "<Figure size 576x396 with 1 Axes>"
      ]
     },
     "metadata": {},
     "output_type": "display_data"
    }
   ],
   "source": [
    "# visualization\n",
    "fig, ax = plt.subplots()\n",
    "plt.plot((1+pflio(return_df,6,3)).cumprod())\n",
    "plt.plot((1+DJI[\"daily_ret\"].reset_index(drop=True)).cumprod())\n",
    "plt.title(\"Index Return vs Strategy Return\")\n",
    "plt.ylabel(\"cumulative return\")\n",
    "plt.xlabel(\"days\")\n",
    "ax.legend([\"Strategy Return\",\"Index Return\"])"
   ]
  },
  {
   "cell_type": "code",
   "execution_count": null,
   "id": "orange-relevance",
   "metadata": {},
   "outputs": [],
   "source": []
  }
 ],
 "metadata": {
  "kernelspec": {
   "display_name": "Python 3",
   "language": "python",
   "name": "python3"
  },
  "language_info": {
   "codemirror_mode": {
    "name": "ipython",
    "version": 3
   },
   "file_extension": ".py",
   "mimetype": "text/x-python",
   "name": "python",
   "nbconvert_exporter": "python",
   "pygments_lexer": "ipython3",
   "version": "3.8.8"
  }
 },
 "nbformat": 4,
 "nbformat_minor": 5
}
